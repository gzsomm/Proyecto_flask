{
    "cells": [
        {
            "cell_type": "markdown",
            "metadata": {},
            "source": [
                "# Explore here"
            ]
        },
        {
            "cell_type": "code",
            "execution_count": 2,
            "metadata": {},
            "outputs": [
                {
                    "data": {
                        "text/plain": [
                            "['model.pkl']"
                        ]
                    },
                    "execution_count": 2,
                    "metadata": {},
                    "output_type": "execute_result"
                }
            ],
            "source": [
                "# Entrenamiento del modelo Titanic\n",
                "import seaborn as sns\n",
                "import pandas as pd\n",
                "from sklearn.model_selection import train_test_split\n",
                "from sklearn.ensemble import RandomForestClassifier\n",
                "from sklearn.preprocessing import LabelEncoder\n",
                "import joblib\n",
                "\n",
                "# Cargar dataset\n",
                "df = sns.load_dataset('titanic')\n",
                "df = df[['survived', 'pclass', 'sex', 'age', 'fare']].dropna()\n",
                "df['sex'] = LabelEncoder().fit_transform(df['sex'])\n",
                "\n",
                "# Separar variables\n",
                "X = df.drop('survived', axis=1)\n",
                "y = df['survived']\n",
                "X_train, X_test, y_train, y_test = train_test_split(X, y, test_size=0.2, random_state=42)\n",
                "\n",
                "# Entrenar modelo\n",
                "model = RandomForestClassifier()\n",
                "model.fit(X_train, y_train)\n",
                "\n",
                "# Guardar modelo\n",
                "joblib.dump(model, 'model.pkl')"
            ]
        }
    ],
    "metadata": {
        "kernelspec": {
            "display_name": "Python 3",
            "language": "python",
            "name": "python3"
        },
        "language_info": {
            "codemirror_mode": {
                "name": "ipython",
                "version": 3
            },
            "file_extension": ".py",
            "mimetype": "text/x-python",
            "name": "python",
            "nbconvert_exporter": "python",
            "pygments_lexer": "ipython3",
            "version": "3.11.4"
        },
        "orig_nbformat": 4
    },
    "nbformat": 4,
    "nbformat_minor": 2
}
